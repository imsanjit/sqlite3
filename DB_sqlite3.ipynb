{
 "cells": [
  {
   "cell_type": "code",
   "execution_count": 1,
   "metadata": {},
   "outputs": [],
   "source": [
    "import sqlite3"
   ]
  },
  {
   "cell_type": "code",
   "execution_count": 3,
   "metadata": {},
   "outputs": [],
   "source": [
    "con = sqlite3.connect('mydata.sqlite')\n",
    "con.execute('drop table if exists test')\n",
    "\n",
    "query= \"\"\"\n",
    "\n",
    "CREATE TABLE test\n",
    "(a VARCHAR(20),\n",
    "b VARCHAR(20),\n",
    "c REAL,\n",
    "d INTEGER);\n",
    "\"\"\"\n",
    "\n",
    "con.execute(query)\n",
    "con.commit()"
   ]
  },
  {
   "cell_type": "code",
   "execution_count": 12,
   "metadata": {},
   "outputs": [],
   "source": [
    "con = sqlite3.connect('mydata.sqlite')\n",
    "\n",
    "data_row = [('Atlanta', 'Georgia', 1.25, 6),\n",
    "         ('India', 'paaap', 5.25, 7),\n",
    "         ('US', 'which', 6.25, 5)]\n",
    "\n",
    "query1 = \"INSERT INTO test VALUES (?, ?, ?, ?)\"\n",
    "\n",
    "con.executemany(query1, data_row)\n",
    "con.commit()"
   ]
  },
  {
   "cell_type": "code",
   "execution_count": 14,
   "metadata": {},
   "outputs": [
    {
     "name": "stdout",
     "output_type": "stream",
     "text": [
      "('Atlanta', 'Georgia', 1.25, 6)\n",
      "('India', 'paaap', 5.25, 7)\n",
      "('US', 'which', 6.25, 5)\n"
     ]
    }
   ],
   "source": [
    "data = con.execute(\"SELECT * FROM test\")\n",
    "\n",
    "\n",
    "for row in data:\n",
    "    print(row)"
   ]
  },
  {
   "cell_type": "code",
   "execution_count": null,
   "metadata": {},
   "outputs": [],
   "source": []
  }
 ],
 "metadata": {
  "kernelspec": {
   "display_name": "Python 3",
   "language": "python",
   "name": "python3"
  },
  "language_info": {
   "codemirror_mode": {
    "name": "ipython",
    "version": 3
   },
   "file_extension": ".py",
   "mimetype": "text/x-python",
   "name": "python",
   "nbconvert_exporter": "python",
   "pygments_lexer": "ipython3",
   "version": "3.7.4"
  }
 },
 "nbformat": 4,
 "nbformat_minor": 2
}
